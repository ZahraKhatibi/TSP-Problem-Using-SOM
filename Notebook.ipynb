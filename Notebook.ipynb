{
 "cells": [
  {
   "cell_type": "markdown",
   "metadata": {},
   "source": [
    "## Zahra khatibi - 610398119 - HW7 - Solving TSP With SOM"
   ]
  },
  {
   "cell_type": "code",
   "execution_count": 159,
   "metadata": {},
   "outputs": [],
   "source": [
    "import random\n",
    "import math\n",
    "import numpy as np\n",
    "import matplotlib.pyplot as plt\n",
    "import itertools\n",
    "f = open(\"1.tsp\")\n",
    "matrix = f.read().split(\"\\n\")\n",
    "n = 29\n",
    "m = 5\n",
    "data = [[0 for _ in range(2)] for _ in range(n)]\n",
    "l_x = []\n",
    "l_y = []\n",
    "alfa = 0.01\n",
    "for i in range(n):\n",
    "    ith , x , y = matrix[i].split()\n",
    "    data[i][0] = int(float(x))\n",
    "    data[i][1] = int(float(y))\n",
    "    l_x.append(int(float(x)))\n",
    "    l_y.append(int(float(y)))"
   ]
  },
  {
   "cell_type": "code",
   "execution_count": 46,
   "metadata": {},
   "outputs": [],
   "source": [
    "from random import randint\n",
    "w_x = []\n",
    "w_y = []\n",
    "for i in range(m):\n",
    "    k1 = randint(min(l_x),max(l_x))\n",
    "    k2= randint(min(l_y),max(l_y))\n",
    "    w_x.append(k1)\n",
    "    w_y.append(k2)"
   ]
  },
  {
   "cell_type": "code",
   "execution_count": 47,
   "metadata": {},
   "outputs": [
    {
     "data": {
      "image/png": "[encoded data removed]",
      "text/plain": [
       "<Figure size 432x288 with 1 Axes>"
      ]
     },
     "metadata": {
      "needs_background": "light"
     },
     "output_type": "display_data"
    }
   ],
   "source": [
    "import matplotlib.pyplot as plt\n",
    "plt.plot(l_x, l_y, 'ro',color='b')\n",
    "plt.plot(w_x, w_y, 'ro',color='r')\n",
    "plt.axis([min(l_x)-200, max(l_x)+200, min(l_y)-200, max(l_y)+200])\n",
    "plt.show()"
   ]
  },
  {
   "cell_type": "code",
   "execution_count": 48,
   "metadata": {},
   "outputs": [],
   "source": [
    "def choose_cluster(arr):\n",
    "    global w_x\n",
    "    global w_y\n",
    "    n = len(w_x)\n",
    "    min_weight = 10e10\n",
    "    number_of_cluster = n+2\n",
    "    for i in range(n):\n",
    "        weight = math.sqrt((arr[0]-w_x[i])**2 + (arr[1]-w_y[i])**2)\n",
    "        if weight < min_weight:\n",
    "            number_of_cluster = i\n",
    "            min_weight = weight\n",
    "        if(i==n-1):\n",
    "            w_x[number_of_cluster] += (alfa * (arr[0] - w_x[number_of_cluster]))\n",
    "            w_y[number_of_cluster] += (alfa * (arr[1] - w_y[number_of_cluster]))\n",
    "    return number_of_cluster"
   ]
  },
  {
   "cell_type": "code",
   "execution_count": 49,
   "metadata": {},
   "outputs": [],
   "source": [
    "colors = []\n",
    "for i in range(m):\n",
    "    colors.append('#%06X' % randint(0, 0xFFFFFF))"
   ]
  },
  {
   "cell_type": "code",
   "execution_count": 50,
   "metadata": {},
   "outputs": [
    {
     "data": {
      "text/plain": [
       "[<matplotlib.lines.Line2D at 0x1e507143700>]"
      ]
     },
     "execution_count": 50,
     "metadata": {},
     "output_type": "execute_result"
    },
    {
     "data": {
      "image/png": "[encoded data removed]",
      "text/plain": [
       "<Figure size 432x288 with 1 Axes>"
      ]
     },
     "metadata": {
      "needs_background": "light"
     },
     "output_type": "display_data"
    }
   ],
   "source": [
    "cluster_dictionary = {\"clurste0\": set(), \"clurste1\": set(), \"clurste2\":set(), \"clurste3\": set(),\n",
    "                      \"clurste4\": set(), \"clurste5\": set(), \"clurste6\": set()}\n",
    "for _ in range(3000):\n",
    "    for i in range(n):\n",
    "        choose_cluster(data[i])\n",
    "    alfa *= 0.99\n",
    "for i in range(n):\n",
    "    for j in range(m):\n",
    "        if choose_cluster(data[i]) == j:\n",
    "            plt.plot(data[i][0], data[i][1], 'ro',color=colors[j])\n",
    "            cluster_dictionary[\"clurste\"+str(j)].add(i)\n",
    "        \n",
    "    plt.axis([min(l_x)-200, max(l_x)+200, min(l_y)-200, max(l_y)+200])\n",
    "plt.plot(w_x, w_y, 'ro',color='red')"
   ]
  },
  {
   "cell_type": "code",
   "execution_count": 51,
   "metadata": {
    "scrolled": true
   },
   "outputs": [
    {
     "data": {
      "text/plain": [
       "{'clurste0': {10, 13, 16, 17, 21},\n",
       " 'clurste1': {3, 6, 9, 12, 14, 15, 18, 19, 24},\n",
       " 'clurste2': {2, 28},\n",
       " 'clurste3': {0, 7, 22, 23, 26, 27},\n",
       " 'clurste4': {1, 4, 5, 8, 11, 20, 25},\n",
       " 'clurste5': set(),\n",
       " 'clurste6': set()}"
      ]
     },
     "execution_count": 51,
     "metadata": {},
     "output_type": "execute_result"
    }
   ],
   "source": [
    "cluster_dictionary"
   ]
  },
  {
   "cell_type": "code",
   "execution_count": 52,
   "metadata": {},
   "outputs": [],
   "source": [
    "def distancee (n1 , n2):\n",
    "    return math.sqrt((data[n2][0]-data[n1][0])**2 + (data[n2][1]-data[n1][1])**2 )\n"
   ]
  },
  {
   "cell_type": "code",
   "execution_count": 53,
   "metadata": {},
   "outputs": [],
   "source": [
    "def find_min_path(arr):\n",
    "    min_permut = []\n",
    "    min_path = 10e10\n",
    "    path = 0\n",
    "    for permut in arr:\n",
    "        for j in range(0,len(permut)-1):\n",
    "            path += distancee(permut[j],permut[j+1])\n",
    "        if path < min_path:\n",
    "            min_path = path\n",
    "            min_permut = permut\n",
    "        path = 0\n",
    "    return min_permut"
   ]
  },
  {
   "cell_type": "code",
   "execution_count": 62,
   "metadata": {},
   "outputs": [],
   "source": [
    "import itertools\n",
    "min_path_dic = {\"clurste0\": set(), \"clurste1\": set(), \"clurste2\":set(), \"clurste3\": set(), \"clurste4\": set()}\n",
    "for i in range(m):\n",
    "    lst = list(cluster_dictionary[\"clurste\"+str(i)])\n",
    "    permutations = list(itertools.permutations(lst))\n",
    "    min_path_dic[\"clurste\"+str(i)].add(find_min_path(permutations))"
   ]
  },
  {
   "cell_type": "code",
   "execution_count": 63,
   "metadata": {},
   "outputs": [
    {
     "data": {
      "text/plain": [
       "{'clurste0': {(10, 21, 13, 17, 16)},\n",
       " 'clurste1': {(6, 24, 18, 14, 3, 19, 9, 12, 15)},\n",
       " 'clurste2': {(2, 28)},\n",
       " 'clurste3': {(22, 26, 7, 23, 0, 27)},\n",
       " 'clurste4': {(11, 5, 8, 25, 4, 20, 1)}}"
      ]
     },
     "execution_count": 63,
     "metadata": {},
     "output_type": "execute_result"
    }
   ],
   "source": [
    "min_path_dic"
   ]
  },
  {
   "cell_type": "code",
   "execution_count": 350,
   "metadata": {},
   "outputs": [
    {
     "name": "stdout",
     "output_type": "stream",
     "text": [
      "[10, 21, 13, 17, 16]\n",
      "[6, 24, 18, 14, 3, 19, 9, 12, 15]\n",
      "[2, 28]\n",
      "[22, 26, 7, 23, 0, 27]\n",
      "[11, 5, 8, 25, 4, 20, 1]\n"
     ]
    },
    {
     "data": {
      "image/png": "[encoded data removed]",
      "text/plain": [
       "<Figure size 432x288 with 1 Axes>"
      ]
     },
     "metadata": {
      "needs_background": "light"
     },
     "output_type": "display_data"
    }
   ],
   "source": [
    "end_node = []\n",
    "internal_node = []\n",
    "list_of_cluster = []\n",
    "for i in range(m):\n",
    "    l = list(min_path_dic[\"clurste\"+str(i)])\n",
    "    l = list(l[0])\n",
    "    list_of_cluster.append(l)\n",
    "    print(l)\n",
    "    end_node.append(l[0])\n",
    "    end_node.append(l[-1])\n",
    "    for i in range(1,len(l)-1):\n",
    "        internal_node.append(l[i])\n",
    "    p_x = [l_x[j] for j in l]\n",
    "    p_y = [l_y[k] for k in l]\n",
    "    p = plt.plot(p_x,p_y)\n",
    "    plt.axis([min(l_x)-200, max(l_x)+200, min(l_y)-200, max(l_y)+200])"
   ]
  },
  {
   "cell_type": "code",
   "execution_count": 351,
   "metadata": {},
   "outputs": [],
   "source": [
    "def check(city_number1, city_number2 , l_cluster):\n",
    "    for i in range(m):\n",
    "        if l_cluster[i][0]==city_number1 and l_cluster[i][len(l_cluster[i])-1]==city_number2 or l_cluster[i][0]==city_number2 and l_cluster[i][len(l_cluster[i])-1]==city_number1:\n",
    "                return False\n",
    "    return True"
   ]
  },
  {
   "cell_type": "code",
   "execution_count": 344,
   "metadata": {},
   "outputs": [],
   "source": [
    "print(end_node)\n",
    "import numpy as np\n",
    "end_node = list(np.random.choice(end_node, len(end_node) ,replace=False))\n",
    "end_node = [15, 28, 10, 2, 1, 6, 16, 27, 22, 11]"
   ]
  },
  {
   "cell_type": "code",
   "execution_count": 345,
   "metadata": {},
   "outputs": [],
   "source": [
    "def find_closest(city_num, arr):\n",
    "    global end_node\n",
    "    min_weight = 10e10\n",
    "    closest = n+1\n",
    "    for i in range(len(arr)):\n",
    "        if arr[i] != city_num:\n",
    "            weight = math.sqrt((data[city_num][0]-data[arr[i]][0])**2 + (data[city_num][1]-data[arr[i]][1])**2)\n",
    "            if weight < min_weight and check(city_num, arr[i] , list_of_cluster) and (arr[i] in end_node):\n",
    "                min_weight = weight\n",
    "                closest = arr[i]\n",
    "            weight = 0\n",
    "    return closest"
   ]
  },
  {
   "cell_type": "code",
   "execution_count": 352,
   "metadata": {},
   "outputs": [
    {
     "name": "stdout",
     "output_type": "stream",
     "text": [
      "x:  10 || k:  15 \n",
      "\n",
      "x:  16 || k:  1 \n",
      "\n",
      "x:  6 || k:  22 \n",
      "\n",
      "x:  2 || k:  11 \n",
      "\n",
      "x:  28 || k:  27 \n",
      "\n"
     ]
    }
   ],
   "source": [
    "for x in end_node:\n",
    "    k = find_closest(x, end_node)\n",
    "    end_node.remove(k)\n",
    "    print(\"x: \", x , end= \" || \")\n",
    "    print(\"k: \", k , \"\\n\")"
   ]
  },
  {
   "cell_type": "code",
   "execution_count": 353,
   "metadata": {},
   "outputs": [
    {
     "data": {
      "text/plain": [
       "[<matplotlib.lines.Line2D at 0x1e509ee0490>]"
      ]
     },
     "execution_count": 353,
     "metadata": {},
     "output_type": "execute_result"
    },
    {
     "data": {
      "image/png": "[encoded data removed]",
      "text/plain": [
       "<Figure size 432x288 with 1 Axes>"
      ]
     },
     "metadata": {
      "needs_background": "light"
     },
     "output_type": "display_data"
    }
   ],
   "source": [
    "PATH = [16, 17, 13, 21, 10, 6, 24, 18, 14, 3, 19, 9, 12, 15, 22, 26, 7, 23, 0, 27, 11, 5, 8, 25, 4, 20, 1, 28, 2]\n",
    "for i in range(m):\n",
    "    l = list(min_path_dic[\"clurste\"+str(i)])\n",
    "    l = list(l[0])\n",
    "    p_x = [l_x[j] for j in l]\n",
    "    p_y = [l_y[k] for k in l]\n",
    "    p = plt.plot(p_x,p_y)\n",
    "    plt.axis([min(l_x)-200, max(l_x)+200, min(l_y)-200, max(l_y)+200])\n",
    "    \n",
    "for i in range(n-1): \n",
    "    plt.plot([data[PATH[i]][0], data[PATH[i+1]][0]], [data[PATH[i]][1], data[PATH[i+1]][1]])\n",
    "plt.plot([data[PATH[0]][0], data[PATH[n-1]][0]], [data[PATH[0]][1], data[PATH[n-1]][1]])"
   ]
  }
 ],
 "metadata": {
  "kernelspec": {
   "display_name": "Python 3",
   "language": "python",
   "name": "python3"
  },
  "language_info": {
   "codemirror_mode": {
    "name": "ipython",
    "version": 3
   },
   "file_extension": ".py",
   "mimetype": "text/x-python",
   "name": "python",
   "nbconvert_exporter": "python",
   "pygments_lexer": "ipython3",
   "version": "3.8.3"
  }
 },
 "nbformat": 4,
 "nbformat_minor": 4
}
